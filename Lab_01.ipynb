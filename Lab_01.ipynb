{
  "nbformat": 4,
  "nbformat_minor": 0,
  "metadata": {
    "colab": {
      "provenance": [],
      "authorship_tag": "ABX9TyNIIjc2yxxHi/q5sisNFBrF",
      "include_colab_link": true
    },
    "kernelspec": {
      "name": "python3",
      "display_name": "Python 3"
    },
    "language_info": {
      "name": "python"
    }
  },
  "cells": [
    {
      "cell_type": "markdown",
      "metadata": {
        "id": "view-in-github",
        "colab_type": "text"
      },
      "source": [
        "<a href=\"https://colab.research.google.com/github/moizarsalan/Advanced_Python_Labs/blob/main/Lab_01.ipynb\" target=\"_parent\"><img src=\"https://colab.research.google.com/assets/colab-badge.svg\" alt=\"Open In Colab\"/></a>"
      ]
    },
    {
      "cell_type": "markdown",
      "source": [
        "# **Lab_01**\n",
        "\n",
        "**Introduction to Python Basic**\n",
        "\n",
        "\n"
      ],
      "metadata": {
        "id": "XY4mcseqmBcg"
      }
    },
    {
      "cell_type": "markdown",
      "source": [
        "# **Task 01**"
      ],
      "metadata": {
        "id": "1Q4ILedTmIUb"
      }
    },
    {
      "cell_type": "code",
      "execution_count": null,
      "metadata": {
        "colab": {
          "base_uri": "https://localhost:8080/"
        },
        "id": "2mFuRZvRl-_N",
        "outputId": "9b4f9e8a-82ab-477c-b9a8-f19d4f15fcad"
      },
      "outputs": [
        {
          "output_type": "stream",
          "name": "stdout",
          "text": [
            "He is child\n"
          ]
        }
      ],
      "source": [
        "# Desfining two variables and printing messages using if else statements\n",
        "age = 18\n",
        "variable_02 = \"My name is Abdul Moiz Arsalan\"\n",
        "\n",
        "if age > 18:\n",
        "    print (\"He is adult\")\n",
        "else:\n",
        "    print (\"He is child\")"
      ]
    },
    {
      "cell_type": "code",
      "source": [
        "# defining and print first three members of the list\n",
        "a = [\"1\",\"2\",\"3\",\"4\",\"5\"]\n",
        "\n",
        "print (a[0:3])"
      ],
      "metadata": {
        "colab": {
          "base_uri": "https://localhost:8080/"
        },
        "id": "fvCWWd9UmayM",
        "outputId": "b773cf5a-97a9-43d7-d8d3-f4d8330fc979"
      },
      "execution_count": null,
      "outputs": [
        {
          "output_type": "stream",
          "name": "stdout",
          "text": [
            "['1', '2', '3']\n"
          ]
        }
      ]
    },
    {
      "cell_type": "code",
      "source": [
        "# Product using function\n",
        "def product(a, b):\n",
        "    return a * b\n",
        "a = 10\n",
        "b = 3\n",
        "print(product(a, b))"
      ],
      "metadata": {
        "colab": {
          "base_uri": "https://localhost:8080/"
        },
        "id": "v1qhMIOomdSv",
        "outputId": "8aa6d9ee-e1d1-4ac3-cb6d-3a75e0956e56"
      },
      "execution_count": null,
      "outputs": [
        {
          "output_type": "stream",
          "name": "stdout",
          "text": [
            "30\n"
          ]
        }
      ]
    },
    {
      "cell_type": "markdown",
      "source": [
        "# **Task 02**"
      ],
      "metadata": {
        "id": "zTW58qVzmjos"
      }
    },
    {
      "cell_type": "code",
      "source": [
        "import numpy as np\n",
        "\n",
        "# making a numpy array\n",
        "arr = np.array ([1,2,3,4,5,6,7,8,9,10])\n",
        "print (arr)"
      ],
      "metadata": {
        "colab": {
          "base_uri": "https://localhost:8080/"
        },
        "id": "WWZMf5EEmmsh",
        "outputId": "a9d117b7-1524-46ca-81c8-5e307a7e8f04"
      },
      "execution_count": null,
      "outputs": [
        {
          "output_type": "stream",
          "name": "stdout",
          "text": [
            "[ 1  2  3  4  5  6  7  8  9 10]\n"
          ]
        }
      ]
    },
    {
      "cell_type": "code",
      "source": [
        "import pandas as pd\n",
        "\n",
        "# creating dataframe using pandas\n",
        "data = {\n",
        "    'name': ['Abdul Moiz Arsalan', 'Hamza Rashid', 'Qasim Khan'],\n",
        "    'age': ['21', '22', '23'],\n",
        "    'major': ['Machine Learning', 'Linear Algebra', 'OpenCv']\n",
        "}\n",
        "\n",
        "df = pd.DataFrame(data)\n",
        "print (df)"
      ],
      "metadata": {
        "colab": {
          "base_uri": "https://localhost:8080/"
        },
        "id": "EiIfUcLXmsy1",
        "outputId": "5e2ebc99-7861-45e6-99c4-13d8c769c19b"
      },
      "execution_count": null,
      "outputs": [
        {
          "output_type": "stream",
          "name": "stdout",
          "text": [
            "                 name age             major\n",
            "0  Abdul Moiz Arsalan  21  Machine Learning\n",
            "1        Hamza Rashid  22    Linear Algebra\n",
            "2          Qasim Khan  23            OpenCv\n"
          ]
        }
      ]
    },
    {
      "cell_type": "markdown",
      "source": [
        "# **Task 03**"
      ],
      "metadata": {
        "id": "jFdCs_7Hm1ci"
      }
    },
    {
      "cell_type": "code",
      "source": [
        "a = float (input(\"Enter 1st Number: \"))\n",
        "b = float (input(\"Enter 2nd Number: \"))\n",
        "c = float (input(\"Enter 3rd Number: \"))\n",
        "\n",
        "average = (a + b + c) / 3\n",
        "\n",
        "print (\"The average is\", average)"
      ],
      "metadata": {
        "colab": {
          "base_uri": "https://localhost:8080/"
        },
        "id": "eyLyH5-Am5G6",
        "outputId": "28858814-c2e3-4b23-a80d-37289228c851"
      },
      "execution_count": null,
      "outputs": [
        {
          "output_type": "stream",
          "name": "stdout",
          "text": [
            "Enter 1st Number: 2\n",
            "Enter 2nd Number: 4\n",
            "Enter 3rd Number: 6\n",
            "The average is 4.0\n"
          ]
        }
      ]
    },
    {
      "cell_type": "code",
      "source": [
        "for i in range (1,11):\n",
        "    print(i)"
      ],
      "metadata": {
        "colab": {
          "base_uri": "https://localhost:8080/"
        },
        "id": "fJFsaov1m_Bg",
        "outputId": "7cf3d48e-a995-4ec2-8116-82611a64a36e"
      },
      "execution_count": null,
      "outputs": [
        {
          "output_type": "stream",
          "name": "stdout",
          "text": [
            "1\n",
            "2\n",
            "3\n",
            "4\n",
            "5\n",
            "6\n",
            "7\n",
            "8\n",
            "9\n",
            "10\n"
          ]
        }
      ]
    },
    {
      "cell_type": "markdown",
      "source": [
        "# **Task 04**\n",
        "**Calculating numpy of random number calculating its standard deviation**"
      ],
      "metadata": {
        "id": "83Db_IdanGqG"
      }
    },
    {
      "cell_type": "code",
      "source": [
        "import numpy as np\n",
        "\n",
        "a = np.random.rand(10)\n",
        "\n",
        "std_dev = np.std(a)\n",
        "\n",
        "print(\"Random numbers:\", a)\n",
        "print(\"The standard deviation is\", std_dev)\n"
      ],
      "metadata": {
        "colab": {
          "base_uri": "https://localhost:8080/"
        },
        "id": "IktPGByynJQL",
        "outputId": "fc089586-c4b5-4fd3-b95c-8a82d3917537"
      },
      "execution_count": null,
      "outputs": [
        {
          "output_type": "stream",
          "name": "stdout",
          "text": [
            "Random numbers: [0.55441307 0.23898329 0.2281799  0.98605436 0.18553741 0.92074481\n",
            " 0.18995432 0.3994959  0.28798313 0.12592626]\n",
            "The standard deviation is 0.2950134486955679\n"
          ]
        }
      ]
    },
    {
      "cell_type": "markdown",
      "source": [
        "# **Task 05**"
      ],
      "metadata": {
        "id": "7BWdzaJ9sMVJ"
      }
    },
    {
      "cell_type": "code",
      "source": [
        "import numpy as np\n",
        "import pandas as pd\n",
        "\n",
        "random_numbers = np.random.rand(10)\n",
        "\n",
        "std_dev = np.std(random_numbers)\n",
        "\n",
        "print(\"Random Numbers:\", random_numbers)\n",
        "print(\"Standard Deviation:\", std_dev)\n",
        "\n",
        "dataset_path = '/content/student_performance.csv'\n",
        "\n",
        "df = pd.read_csv(dataset_path)\n",
        "\n",
        "print(\"\\nColumn Names:\", df.columns)\n",
        "\n",
        "print(\"\\nSummary Statistics:\")\n",
        "print(df.describe())\n"
      ],
      "metadata": {
        "colab": {
          "base_uri": "https://localhost:8080/"
        },
        "id": "np3WD6-sreJl",
        "outputId": "0f86499c-78eb-4cc3-c034-6b2ffd4f3c33"
      },
      "execution_count": null,
      "outputs": [
        {
          "output_type": "stream",
          "name": "stdout",
          "text": [
            "Random Numbers: [0.93853885 0.11584245 0.40258054 0.89628483 0.91429508 0.67654968\n",
            " 0.14068472 0.91625257 0.17607856 0.83702173]\n",
            "Standard Deviation: 0.3357487785795412\n",
            "\n",
            "Column Names: Index(['StudentID', 'Name', 'Gender', 'AttendanceRate', 'StudyHoursPerWeek',\n",
            "       'PreviousGrade', 'ExtracurricularActivities', 'ParentalSupport',\n",
            "       'FinalGrade'],\n",
            "      dtype='object')\n",
            "\n",
            "Summary Statistics:\n",
            "       StudentID  AttendanceRate  StudyHoursPerWeek  PreviousGrade  \\\n",
            "count   10.00000       10.000000          10.000000      10.000000   \n",
            "mean     5.50000       85.600000          17.700000      78.100000   \n",
            "std      3.02765        7.441625           6.848357      10.170218   \n",
            "min      1.00000       70.000000           8.000000      60.000000   \n",
            "25%      3.25000       82.750000          12.750000      71.750000   \n",
            "50%      5.50000       86.500000          17.500000      80.000000   \n",
            "75%      7.75000       90.750000          21.500000      85.750000   \n",
            "max     10.00000       95.000000          30.000000      90.000000   \n",
            "\n",
            "       ExtracurricularActivities  FinalGrade  \n",
            "count                  10.000000   10.000000  \n",
            "mean                    1.500000   80.200000  \n",
            "std                     1.080123   10.097304  \n",
            "min                     0.000000   62.000000  \n",
            "25%                     1.000000   73.500000  \n",
            "50%                     1.500000   82.500000  \n",
            "75%                     2.000000   87.750000  \n",
            "max                     3.000000   92.000000  \n"
          ]
        }
      ]
    },
    {
      "cell_type": "markdown",
      "source": [
        "# **Additional Task 01**\n",
        "\n",
        "Task: 1\n",
        "  1. Create a Python script that accepts a user's first and last name as input.\n",
        "  2. Combine the names and print a welcome message, e.g., \"Welcome, John Doe!\"\n",
        "  3. Create a list of five cities and use a loop to print each city in uppercase letters.\n"
      ],
      "metadata": {
        "id": "-Ye88CpK-0Hg"
      }
    },
    {
      "cell_type": "code",
      "source": [
        "name = input(\"Enter your first name: \")\n",
        "surname = input(\"Enter your last name: \")\n",
        "\n",
        "print (\"Welcome,\", name, surname)"
      ],
      "metadata": {
        "colab": {
          "base_uri": "https://localhost:8080/"
        },
        "id": "e4F0jipi_AcU",
        "outputId": "5765b00b-19b4-499f-d87a-9444167549c5"
      },
      "execution_count": null,
      "outputs": [
        {
          "output_type": "stream",
          "name": "stdout",
          "text": [
            "Enter your first name: Abdul Moiz\n",
            "Enter your last name: Arsalan\n",
            "Welcome, Abdul Moiz Arsalan\n"
          ]
        }
      ]
    },
    {
      "cell_type": "code",
      "source": [
        "a = [\"Karachi\", \"Lahore\", \"Islamabad\", \"Quetta\", \"Peshawar\"]\n",
        "\n",
        "for i in a:\n",
        "    print (i.upper())"
      ],
      "metadata": {
        "colab": {
          "base_uri": "https://localhost:8080/"
        },
        "id": "yNHKowOW_aes",
        "outputId": "aa317969-3817-484f-b994-1195eecde969"
      },
      "execution_count": null,
      "outputs": [
        {
          "output_type": "stream",
          "name": "stdout",
          "text": [
            "KARACHI\n",
            "LAHORE\n",
            "ISLAMABAD\n",
            "QUETTA\n",
            "PESHAWAR\n"
          ]
        }
      ]
    },
    {
      "cell_type": "markdown",
      "source": [
        "# **Task 02**\n",
        "\n",
        "Task: 2\n",
        "  1. Write a Python function that accepts a list of numbers and returns the maximum number.\n",
        "  2. Write another function that checks if a number is prime.\n",
        "  3. Create a loop that calls the prime-checking function on numbers from 1 to 20 and prints whether each number is prime or not.\n"
      ],
      "metadata": {
        "id": "syDqIjUQ_S_0"
      }
    },
    {
      "cell_type": "code",
      "source": [
        "def find_max(numbers):\n",
        "    max = numbers[0]\n",
        "    for number in numbers:\n",
        "        if number > max:\n",
        "            max = number\n",
        "    return max\n",
        "\n",
        "numbers = [3, 5, 7, 2, 8]\n",
        "print(find_max(numbers))"
      ],
      "metadata": {
        "colab": {
          "base_uri": "https://localhost:8080/"
        },
        "id": "GAFgVrKy_Swv",
        "outputId": "e6432848-55e0-463e-bf08-3a37ba1f313b"
      },
      "execution_count": null,
      "outputs": [
        {
          "output_type": "stream",
          "name": "stdout",
          "text": [
            "8\n"
          ]
        }
      ]
    },
    {
      "cell_type": "code",
      "source": [
        "def is_prime(number):\n",
        "    if number <= 1:\n",
        "        return False\n",
        "    if number == 2:\n",
        "        return True\n",
        "    if number % 2 == 0:\n",
        "        return False\n",
        "\n",
        "    for i in range(3, int(number**0.5) + 1, 2):\n",
        "        if number % i == 0:\n",
        "            return False\n",
        "    return True\n",
        "\n",
        "number = 29\n",
        "if is_prime(number):\n",
        "    print(number, \"is a prime number\")\n",
        "else:\n",
        "    print(number, \"is not a prime number\")\n"
      ],
      "metadata": {
        "colab": {
          "base_uri": "https://localhost:8080/"
        },
        "id": "WdFXTE_qBNcq",
        "outputId": "9a58be87-24ee-47f8-9a78-a56ebf5bec3b"
      },
      "execution_count": null,
      "outputs": [
        {
          "output_type": "stream",
          "name": "stdout",
          "text": [
            "29 is a prime number\n"
          ]
        }
      ]
    },
    {
      "cell_type": "code",
      "source": [
        "def is_prime(n):\n",
        "    if n <= 1:\n",
        "        return False\n",
        "    if n == 2:\n",
        "        return True\n",
        "    if n % 2 == 0:\n",
        "        return False\n",
        "\n",
        "    for i in range(3, int(n**0.5) + 1, 2):\n",
        "        if n % i == 0:\n",
        "            return False\n",
        "\n",
        "    return True\n",
        "\n",
        "for num in range(1, 21):\n",
        "    if is_prime(num):\n",
        "        print(num, \"is a prime number\")\n",
        "    else:\n",
        "        print(num, \"is not a prime number\")\n"
      ],
      "metadata": {
        "colab": {
          "base_uri": "https://localhost:8080/"
        },
        "id": "Tit6jlWGCUp5",
        "outputId": "20665551-9d1f-44f7-f8e4-3177488c402a"
      },
      "execution_count": null,
      "outputs": [
        {
          "output_type": "stream",
          "name": "stdout",
          "text": [
            "1 is not a prime number\n",
            "2 is a prime number\n",
            "3 is a prime number\n",
            "4 is not a prime number\n",
            "5 is a prime number\n",
            "6 is not a prime number\n",
            "7 is a prime number\n",
            "8 is not a prime number\n",
            "9 is not a prime number\n",
            "10 is not a prime number\n",
            "11 is a prime number\n",
            "12 is not a prime number\n",
            "13 is a prime number\n",
            "14 is not a prime number\n",
            "15 is not a prime number\n",
            "16 is not a prime number\n",
            "17 is a prime number\n",
            "18 is not a prime number\n",
            "19 is a prime number\n",
            "20 is not a prime number\n"
          ]
        }
      ]
    },
    {
      "cell_type": "markdown",
      "source": [
        "# **Additional Task 03**\n",
        "  1. Create a NumPy array of 10 random integers between 1 and 50.\n",
        "  2. Calculate the sum, mean, and standard deviation of the array.\n",
        "  3. Sort the array in ascending order and print the sorted array.\n"
      ],
      "metadata": {
        "id": "1Tw6vMxtSIXO"
      }
    },
    {
      "cell_type": "code",
      "source": [
        "import numpy as np\n",
        "\n",
        "a = np.random.randint(1, 51, size=10)\n",
        "print(\"Original Array:\", a)\n",
        "\n",
        "s = np.sum(a)\n",
        "m = np.mean(a)\n",
        "sd = np.std(a)\n",
        "\n",
        "print(f\"Sum: {s}\")\n",
        "print(f\"Mean: {m}\")\n",
        "print(f\"Standard Deviation: {sd}\")\n",
        "\n",
        "sa = np.sort(a)\n",
        "print(\"Sorted Array:\", sa)\n"
      ],
      "metadata": {
        "colab": {
          "base_uri": "https://localhost:8080/"
        },
        "id": "ny8Iwbu9SMAe",
        "outputId": "eb4aedec-972b-4209-a567-e8630295881d"
      },
      "execution_count": 1,
      "outputs": [
        {
          "output_type": "stream",
          "name": "stdout",
          "text": [
            "Original Array: [48 15 13  7 11 45 11 44 40 27]\n",
            "Sum: 261\n",
            "Mean: 26.1\n",
            "Standard Deviation: 15.70636813525011\n",
            "Sorted Array: [ 7 11 11 13 15 27 40 44 45 48]\n"
          ]
        }
      ]
    },
    {
      "cell_type": "markdown",
      "source": [
        "# **Additional Task 04**\n",
        "  1. Create a Pandas DataFrame with three columns: Name, Age, and Score.\n",
        "  2. Add data for at least five students.\n",
        "  3. Calculate the average score and filter out students who scored below 70.\n",
        "  4. Print the names of students who passed (scored 70 or above).\n"
      ],
      "metadata": {
        "id": "fNsjJj10S6CN"
      }
    },
    {
      "cell_type": "code",
      "source": [
        "import pandas as pd\n",
        "\n",
        "data = {\n",
        "    'Name': ['Alice', 'Bob', 'Charlie', 'David', 'Eva'],\n",
        "    'Age': [20, 21, 19, 22, 20],\n",
        "    'Score': [85, 67, 90, 72, 88]\n",
        "}\n",
        "df = pd.DataFrame(data)\n",
        "\n",
        "avg = df['Score'].mean()\n",
        "passed = df[df['Score'] >= 70]\n",
        "\n",
        "names = passed['Name'].tolist()\n",
        "\n",
        "print(f\"Average Score: {avg}\")\n",
        "print(\"Students who passed:\", names)\n"
      ],
      "metadata": {
        "colab": {
          "base_uri": "https://localhost:8080/"
        },
        "id": "pmw4ZDINS8uZ",
        "outputId": "e535e13c-1d4e-44c6-a895-85157be2ca7b"
      },
      "execution_count": 2,
      "outputs": [
        {
          "output_type": "stream",
          "name": "stdout",
          "text": [
            "Average Score: 80.4\n",
            "Students who passed: ['Alice', 'Charlie', 'David', 'Eva']\n"
          ]
        }
      ]
    },
    {
      "cell_type": "markdown",
      "source": [
        "# **Addtional Task 05**\n",
        "  1. Create a new Colab notebook.\n",
        "  2. Write Python code to generate the first 10 Fibonacci numbers."
      ],
      "metadata": {
        "id": "40dLPBbITn1m"
      }
    },
    {
      "cell_type": "code",
      "source": [
        "fib = [0, 1]\n",
        "for _ in range(8):\n",
        "    fib.append(fib[-1] + fib[-2])\n",
        "\n",
        "print(fib)\n"
      ],
      "metadata": {
        "colab": {
          "base_uri": "https://localhost:8080/"
        },
        "id": "Y7JgXnR1Tw5p",
        "outputId": "a54ed7ab-f80f-43e7-a8f9-81313a2a89b5"
      },
      "execution_count": 3,
      "outputs": [
        {
          "output_type": "stream",
          "name": "stdout",
          "text": [
            "[0, 1, 1, 2, 3, 5, 8, 13, 21, 34]\n"
          ]
        }
      ]
    }
  ]
}